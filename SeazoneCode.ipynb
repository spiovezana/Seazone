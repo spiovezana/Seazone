{
 "cells": [
  {
   "cell_type": "code",
   "execution_count": null,
   "id": "3eff5920-a15b-4a6f-838f-d67251b86c49",
   "metadata": {},
   "outputs": [],
   "source": [
    "# Esse notebook tem o intuito de sanar os quetionamento levantados no desafio proposto pela empresa Seazone"
   ]
  }
 ],
 "metadata": {
  "kernelspec": {
   "display_name": "Python 3 (ipykernel)",
   "language": "python",
   "name": "python3"
  },
  "language_info": {
   "codemirror_mode": {
    "name": "ipython",
    "version": 3
   },
   "file_extension": ".py",
   "mimetype": "text/x-python",
   "name": "python",
   "nbconvert_exporter": "python",
   "pygments_lexer": "ipython3",
   "version": "3.9.7"
  }
 },
 "nbformat": 4,
 "nbformat_minor": 5
}
